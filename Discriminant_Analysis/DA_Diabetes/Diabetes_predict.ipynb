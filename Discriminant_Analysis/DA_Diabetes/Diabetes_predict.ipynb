{
 "cells": [
  {
   "cell_type": "code",
   "execution_count": 1,
   "metadata": {},
   "outputs": [],
   "source": [
    "import numpy as np\n",
    "import pandas as pd\n",
    "from sklearn.discriminant_analysis import LinearDiscriminantAnalysis\n",
    "from sklearn.discriminant_analysis import QuadraticDiscriminantAnalysis\n",
    "from sklearn.preprocessing import StandardScaler\n",
    "from sklearn.preprocessing import MinMaxScaler\n",
    "from imblearn.over_sampling import SMOTE\n",
    "from imblearn.under_sampling import NearMiss"
   ]
  },
  {
   "cell_type": "code",
   "execution_count": 2,
   "metadata": {},
   "outputs": [
    {
     "name": "stdout",
     "output_type": "stream",
     "text": [
      "                          Pregnancies   Glucose  BloodPressure  SkinThickness  \\\n",
      "Pregnancies                  1.000000  0.138310       0.171798      -0.074245   \n",
      "Glucose                      0.138310  1.000000       0.167664       0.019384   \n",
      "BloodPressure                0.171798  0.167664       1.000000       0.154801   \n",
      "SkinThickness               -0.074245  0.019384       0.154801       1.000000   \n",
      "Insulin                     -0.061448  0.339681       0.052759       0.422295   \n",
      "BMI                          0.030913  0.203764       0.244063       0.388597   \n",
      "DiabetesPedigreeFunction    -0.022582  0.168652       0.035847       0.178307   \n",
      "Age                          0.544940  0.267994       0.256916      -0.158532   \n",
      "Diabetes                     0.196957  0.478535       0.112334       0.057206   \n",
      "\n",
      "                           Insulin       BMI  DiabetesPedigreeFunction  \\\n",
      "Pregnancies              -0.061448  0.030913                 -0.022582   \n",
      "Glucose                   0.339681  0.203764                  0.168652   \n",
      "BloodPressure             0.052759  0.244063                  0.035847   \n",
      "SkinThickness             0.422295  0.388597                  0.178307   \n",
      "Insulin                   1.000000  0.159097                  0.162736   \n",
      "BMI                       0.159097  1.000000                  0.139639   \n",
      "DiabetesPedigreeFunction  0.162736  0.139639                  1.000000   \n",
      "Age                      -0.033702  0.005542                  0.033531   \n",
      "Diabetes                  0.135340  0.323694                  0.148887   \n",
      "\n",
      "                               Age  Diabetes  \n",
      "Pregnancies               0.544940  0.196957  \n",
      "Glucose                   0.267994  0.478535  \n",
      "BloodPressure             0.256916  0.112334  \n",
      "SkinThickness            -0.158532  0.057206  \n",
      "Insulin                  -0.033702  0.135340  \n",
      "BMI                       0.005542  0.323694  \n",
      "DiabetesPedigreeFunction  0.033531  0.148887  \n",
      "Age                       1.000000  0.279896  \n",
      "Diabetes                  0.279896  1.000000  \n"
     ]
    }
   ],
   "source": [
    "train= pd.read_csv('data.csv')\n",
    "test_x = pd.read_csv('X_test.csv')\n",
    "submit= pd.read_csv('submission.csv')\n",
    "train\n",
    "oversampler = SMOTE(random_state=42)\n",
    "undersampler =NearMiss()\n",
    "print(train.corr())"
   ]
  },
  {
   "cell_type": "code",
   "execution_count": 3,
   "metadata": {},
   "outputs": [
    {
     "data": {
      "text/html": [
       "<div>\n",
       "<style scoped>\n",
       "    .dataframe tbody tr th:only-of-type {\n",
       "        vertical-align: middle;\n",
       "    }\n",
       "\n",
       "    .dataframe tbody tr th {\n",
       "        vertical-align: top;\n",
       "    }\n",
       "\n",
       "    .dataframe thead th {\n",
       "        text-align: right;\n",
       "    }\n",
       "</style>\n",
       "<table border=\"1\" class=\"dataframe\">\n",
       "  <thead>\n",
       "    <tr style=\"text-align: right;\">\n",
       "      <th></th>\n",
       "      <th>Pregnancies</th>\n",
       "      <th>Glucose</th>\n",
       "      <th>BloodPressure</th>\n",
       "      <th>Insulin</th>\n",
       "      <th>BMI</th>\n",
       "      <th>DiabetesPedigreeFunction</th>\n",
       "      <th>Age</th>\n",
       "    </tr>\n",
       "  </thead>\n",
       "  <tbody>\n",
       "    <tr>\n",
       "      <th>count</th>\n",
       "      <td>537.000000</td>\n",
       "      <td>537.000000</td>\n",
       "      <td>537.000000</td>\n",
       "      <td>537.000000</td>\n",
       "      <td>537.000000</td>\n",
       "      <td>537.000000</td>\n",
       "      <td>537.000000</td>\n",
       "    </tr>\n",
       "    <tr>\n",
       "      <th>mean</th>\n",
       "      <td>3.726257</td>\n",
       "      <td>120.849162</td>\n",
       "      <td>69.685289</td>\n",
       "      <td>79.836127</td>\n",
       "      <td>31.975605</td>\n",
       "      <td>0.469920</td>\n",
       "      <td>33.074488</td>\n",
       "    </tr>\n",
       "    <tr>\n",
       "      <th>std</th>\n",
       "      <td>3.262965</td>\n",
       "      <td>32.339523</td>\n",
       "      <td>18.094374</td>\n",
       "      <td>115.196730</td>\n",
       "      <td>7.624495</td>\n",
       "      <td>0.342087</td>\n",
       "      <td>11.685319</td>\n",
       "    </tr>\n",
       "    <tr>\n",
       "      <th>min</th>\n",
       "      <td>0.000000</td>\n",
       "      <td>0.000000</td>\n",
       "      <td>0.000000</td>\n",
       "      <td>0.000000</td>\n",
       "      <td>0.000000</td>\n",
       "      <td>0.078000</td>\n",
       "      <td>21.000000</td>\n",
       "    </tr>\n",
       "    <tr>\n",
       "      <th>25%</th>\n",
       "      <td>1.000000</td>\n",
       "      <td>99.000000</td>\n",
       "      <td>64.000000</td>\n",
       "      <td>0.000000</td>\n",
       "      <td>26.800000</td>\n",
       "      <td>0.241000</td>\n",
       "      <td>24.000000</td>\n",
       "    </tr>\n",
       "    <tr>\n",
       "      <th>50%</th>\n",
       "      <td>3.000000</td>\n",
       "      <td>117.000000</td>\n",
       "      <td>72.000000</td>\n",
       "      <td>36.000000</td>\n",
       "      <td>32.000000</td>\n",
       "      <td>0.374000</td>\n",
       "      <td>29.000000</td>\n",
       "    </tr>\n",
       "    <tr>\n",
       "      <th>75%</th>\n",
       "      <td>6.000000</td>\n",
       "      <td>139.000000</td>\n",
       "      <td>80.000000</td>\n",
       "      <td>129.000000</td>\n",
       "      <td>36.500000</td>\n",
       "      <td>0.612000</td>\n",
       "      <td>41.000000</td>\n",
       "    </tr>\n",
       "    <tr>\n",
       "      <th>max</th>\n",
       "      <td>17.000000</td>\n",
       "      <td>199.000000</td>\n",
       "      <td>122.000000</td>\n",
       "      <td>846.000000</td>\n",
       "      <td>67.100000</td>\n",
       "      <td>2.420000</td>\n",
       "      <td>81.000000</td>\n",
       "    </tr>\n",
       "  </tbody>\n",
       "</table>\n",
       "</div>"
      ],
      "text/plain": [
       "       Pregnancies     Glucose  BloodPressure     Insulin         BMI  \\\n",
       "count   537.000000  537.000000     537.000000  537.000000  537.000000   \n",
       "mean      3.726257  120.849162      69.685289   79.836127   31.975605   \n",
       "std       3.262965   32.339523      18.094374  115.196730    7.624495   \n",
       "min       0.000000    0.000000       0.000000    0.000000    0.000000   \n",
       "25%       1.000000   99.000000      64.000000    0.000000   26.800000   \n",
       "50%       3.000000  117.000000      72.000000   36.000000   32.000000   \n",
       "75%       6.000000  139.000000      80.000000  129.000000   36.500000   \n",
       "max      17.000000  199.000000     122.000000  846.000000   67.100000   \n",
       "\n",
       "       DiabetesPedigreeFunction         Age  \n",
       "count                537.000000  537.000000  \n",
       "mean                   0.469920   33.074488  \n",
       "std                    0.342087   11.685319  \n",
       "min                    0.078000   21.000000  \n",
       "25%                    0.241000   24.000000  \n",
       "50%                    0.374000   29.000000  \n",
       "75%                    0.612000   41.000000  \n",
       "max                    2.420000   81.000000  "
      ]
     },
     "execution_count": 3,
     "metadata": {},
     "output_type": "execute_result"
    }
   ],
   "source": [
    "train_y = train['Diabetes']\n",
    "train_x = train.drop(['Diabetes','SkinThickness'], axis=1)\n",
    "test_x = test_x.drop(['SkinThickness'], axis=1)\n",
    "train_x.describe()"
   ]
  },
  {
   "cell_type": "markdown",
   "metadata": {},
   "source": [
    "sc=StandardScaler()\n",
    "train_x['Insulin']= sc.fit_transform(train_x.loc[:,train_x.columns=='Insulin'])\n",
    "train_x['DiabetesPedigreeFunction']= sc.fit_transform(train_x.loc[:,train_x.columns=='DiabetesPedigreeFunction'])\n",
    "test_x['Insulin']= sc.fit_transform(test_x.loc[:,test_x.columns=='Insulin'])\n",
    "test_x['DiabetesPedigreeFunction']= sc.fit_transform(test_x.loc[:,test_x.columns=='DiabetesPedigreeFunction'])\n",
    "test_x"
   ]
  },
  {
   "cell_type": "code",
   "execution_count": 4,
   "metadata": {},
   "outputs": [
    {
     "data": {
      "text/plain": [
       "array([[0.05882353, 0.47738693, 0.49180328, ..., 0.3561848 , 0.07771136,\n",
       "        0.01666667],\n",
       "       [0.29411765, 0.52763819, 0.59016393, ..., 0.54992548, 0.03458582,\n",
       "        0.11666667],\n",
       "       [0.        , 0.67839196, 0.55737705, ..., 0.63040238, 0.12254483,\n",
       "        0.05      ],\n",
       "       ...,\n",
       "       [0.58823529, 0.50753769, 0.70491803, ..., 0.67958271, 0.45175064,\n",
       "        0.28333333],\n",
       "       [0.        , 0.70854271, 0.        , ..., 0.6318927 , 0.05422716,\n",
       "        0.13333333],\n",
       "       [0.        , 0.6281407 , 0.78688525, ..., 0.33532042, 0.07856533,\n",
       "        0.        ]])"
      ]
     },
     "execution_count": 4,
     "metadata": {},
     "output_type": "execute_result"
    }
   ],
   "source": [
    "mmsc=MinMaxScaler()\n",
    "train_x= mmsc.fit_transform(train_x, train_y)\n",
    "test_x = mmsc.transform(test_x)\n",
    "train_x"
   ]
  },
  {
   "cell_type": "code",
   "execution_count": 5,
   "metadata": {},
   "outputs": [
    {
     "name": "stdout",
     "output_type": "stream",
     "text": [
      "(537,)\n",
      "(698,)\n",
      "count    698.000000\n",
      "mean       0.500000\n",
      "std        0.500359\n",
      "min        0.000000\n",
      "25%        0.000000\n",
      "50%        0.500000\n",
      "75%        1.000000\n",
      "max        1.000000\n",
      "Name: Diabetes, dtype: float64\n"
     ]
    },
    {
     "data": {
      "text/plain": [
       "count    537.000000\n",
       "mean       0.350093\n",
       "std        0.477444\n",
       "min        0.000000\n",
       "25%        0.000000\n",
       "50%        0.000000\n",
       "75%        1.000000\n",
       "max        1.000000\n",
       "Name: Diabetes, dtype: float64"
      ]
     },
     "execution_count": 5,
     "metadata": {},
     "output_type": "execute_result"
    }
   ],
   "source": [
    "train_re_x, train_re_y = oversampler.fit_resample(train_x, train_y)\n",
    "train_us_x, train_us_y = undersampler.fit_resample(train_x, train_y)\n",
    "print(np.shape(train_y))\n",
    "print(np.shape(train_re_y))\n",
    "print(train_re_y.describe())\n",
    "train_y.describe()"
   ]
  },
  {
   "cell_type": "code",
   "execution_count": 6,
   "metadata": {},
   "outputs": [
    {
     "name": "stdout",
     "output_type": "stream",
     "text": [
      "0.7802607076350093\n",
      "0.7653631284916201\n",
      "0.7898936170212766\n",
      "0.7872340425531915\n",
      "0.7621776504297995\n"
     ]
    },
    {
     "data": {
      "text/plain": [
       "0.7392550143266475"
      ]
     },
     "execution_count": 6,
     "metadata": {},
     "output_type": "execute_result"
    }
   ],
   "source": [
    "model=LinearDiscriminantAnalysis()\n",
    "model2=QuadraticDiscriminantAnalysis()\n",
    "model.fit(train_x,train_y)\n",
    "print(model.score(train_x,train_y))\n",
    "model2.fit(train_x,train_y)\n",
    "print(model2.score(train_x,train_y))\n",
    "\n",
    "\n",
    "model.fit(train_us_x,train_us_y)\n",
    "print(model.score(train_us_x,train_us_y))\n",
    "model2.fit(train_us_x,train_us_y)\n",
    "print(model2.score(train_us_x,train_us_y))\n",
    "\n",
    "model.fit(train_re_x,train_re_y)\n",
    "print(model.score(train_re_x,train_re_y))\n",
    "model2.fit(train_re_x, train_re_y)\n",
    "model2.score(train_re_x,train_re_y)"
   ]
  },
  {
   "cell_type": "code",
   "execution_count": 7,
   "metadata": {},
   "outputs": [
    {
     "name": "stdout",
     "output_type": "stream",
     "text": [
      "0.7802607076350093\n",
      "0.7653631284916201\n"
     ]
    }
   ],
   "source": [
    "model.fit(train_x,train_y)\n",
    "print(model.score(train_x,train_y))\n",
    "model2.fit(train_x,train_y)\n",
    "print(model2.score(train_x,train_y))"
   ]
  },
  {
   "cell_type": "code",
   "execution_count": 8,
   "metadata": {},
   "outputs": [
    {
     "data": {
      "text/plain": [
       "array([0, 0, 0, 0, 1, 0, 0, 1, 1, 1, 0, 1, 0, 0, 0, 0, 0, 0, 1, 1, 0, 0,\n",
       "       0, 0, 1, 1, 0, 0, 0, 0, 1, 1, 1, 1, 1, 1, 1, 0, 1, 1, 0, 1, 1, 0,\n",
       "       0, 1, 1, 0, 0, 1, 0, 1, 1, 0, 0, 0, 1, 0, 0, 1, 1, 0, 0, 0, 0, 1,\n",
       "       0, 1, 0, 1, 1, 0, 0, 0, 0, 1, 0, 0, 0, 0, 1, 0, 0, 0, 0, 1, 1, 0,\n",
       "       0, 0, 0, 0, 0, 1, 0, 1, 0, 0, 1, 0, 1, 0, 1, 1, 1, 0, 0, 1, 0, 0,\n",
       "       0, 0, 0, 1, 0, 0, 1, 0, 0, 1, 0, 0, 0, 0, 0, 0, 0, 1, 1, 1, 1, 1,\n",
       "       0, 0, 1, 0, 0, 1, 1, 0, 0, 0, 0, 0, 0, 0, 0, 0, 0, 1, 0, 0, 0, 0,\n",
       "       0, 0, 0, 1, 1, 0, 0, 1, 0, 0, 0, 1, 0, 0, 1, 1, 1, 0, 0, 1, 1, 0,\n",
       "       0, 0, 0, 0, 1, 1, 0, 1, 1, 0, 0, 0, 1, 0, 0, 0, 1, 0, 0, 0, 0, 0,\n",
       "       0, 1, 0, 0, 0, 0, 1, 0, 0, 0, 1, 1, 0, 0, 0, 0, 1, 0, 1, 0, 0, 1,\n",
       "       1, 0, 0, 0, 0, 1, 0, 0, 0, 0, 0], dtype=int64)"
      ]
     },
     "execution_count": 8,
     "metadata": {},
     "output_type": "execute_result"
    }
   ],
   "source": [
    "pred_y=model.predict(test_x)\n",
    "pred_y"
   ]
  },
  {
   "cell_type": "code",
   "execution_count": 9,
   "metadata": {},
   "outputs": [],
   "source": [
    "submit['Diabetes']=pred_y\n",
    "submit.to_csv('submission.csv', index=False)"
   ]
  },
  {
   "cell_type": "code",
   "execution_count": null,
   "metadata": {},
   "outputs": [],
   "source": []
  }
 ],
 "metadata": {
  "kernelspec": {
   "display_name": "Python 3",
   "language": "python",
   "name": "python3"
  },
  "language_info": {
   "codemirror_mode": {
    "name": "ipython",
    "version": 3
   },
   "file_extension": ".py",
   "mimetype": "text/x-python",
   "name": "python",
   "nbconvert_exporter": "python",
   "pygments_lexer": "ipython3",
   "version": "3.8.3"
  }
 },
 "nbformat": 4,
 "nbformat_minor": 4
}
