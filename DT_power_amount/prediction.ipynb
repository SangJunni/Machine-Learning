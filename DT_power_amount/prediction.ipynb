{
 "cells": [
  {
   "cell_type": "code",
   "execution_count": 1,
   "metadata": {},
   "outputs": [],
   "source": [
    "import numpy as np\n",
    "import pandas as pd\n",
    "from sklearn.tree import DecisionTreeRegressor\n",
    "from sklearn.ensemble import RandomForestRegressor\n",
    "from sklearn.preprocessing import MinMaxScaler\n",
    "from sklearn.metrics import accuracy_score"
   ]
  },
  {
   "cell_type": "code",
   "execution_count": 2,
   "metadata": {},
   "outputs": [],
   "source": [
    "train = pd.read_csv('data.csv')\n",
    "test = pd.read_csv('X_test.csv')\n",
    "submit = pd.read_csv('submission.csv')"
   ]
  },
  {
   "cell_type": "code",
   "execution_count": 3,
   "metadata": {},
   "outputs": [
    {
     "data": {
      "text/html": [
       "<div>\n",
       "<style scoped>\n",
       "    .dataframe tbody tr th:only-of-type {\n",
       "        vertical-align: middle;\n",
       "    }\n",
       "\n",
       "    .dataframe tbody tr th {\n",
       "        vertical-align: top;\n",
       "    }\n",
       "\n",
       "    .dataframe thead th {\n",
       "        text-align: right;\n",
       "    }\n",
       "</style>\n",
       "<table border=\"1\" class=\"dataframe\">\n",
       "  <thead>\n",
       "    <tr style=\"text-align: right;\">\n",
       "      <th></th>\n",
       "      <th>Day</th>\n",
       "      <th>Hour</th>\n",
       "      <th>Minute</th>\n",
       "      <th>DHI</th>\n",
       "      <th>DNI</th>\n",
       "      <th>WS</th>\n",
       "      <th>RH</th>\n",
       "      <th>T</th>\n",
       "      <th>TARGET</th>\n",
       "    </tr>\n",
       "  </thead>\n",
       "  <tbody>\n",
       "    <tr>\n",
       "      <th>count</th>\n",
       "      <td>9000.000000</td>\n",
       "      <td>9000.000000</td>\n",
       "      <td>9000.000000</td>\n",
       "      <td>9000.000000</td>\n",
       "      <td>9000.000000</td>\n",
       "      <td>9000.000000</td>\n",
       "      <td>9000.000000</td>\n",
       "      <td>9000.000000</td>\n",
       "      <td>9000.000000</td>\n",
       "    </tr>\n",
       "    <tr>\n",
       "      <th>mean</th>\n",
       "      <td>103.671556</td>\n",
       "      <td>11.500444</td>\n",
       "      <td>14.983333</td>\n",
       "      <td>76.931778</td>\n",
       "      <td>208.159556</td>\n",
       "      <td>2.305856</td>\n",
       "      <td>64.191710</td>\n",
       "      <td>8.242444</td>\n",
       "      <td>18.174328</td>\n",
       "    </tr>\n",
       "    <tr>\n",
       "      <th>std</th>\n",
       "      <td>60.059711</td>\n",
       "      <td>6.931218</td>\n",
       "      <td>15.000824</td>\n",
       "      <td>119.150870</td>\n",
       "      <td>333.305000</td>\n",
       "      <td>1.259179</td>\n",
       "      <td>21.984384</td>\n",
       "      <td>9.553884</td>\n",
       "      <td>26.084176</td>\n",
       "    </tr>\n",
       "    <tr>\n",
       "      <th>min</th>\n",
       "      <td>0.000000</td>\n",
       "      <td>0.000000</td>\n",
       "      <td>0.000000</td>\n",
       "      <td>0.000000</td>\n",
       "      <td>0.000000</td>\n",
       "      <td>0.100000</td>\n",
       "      <td>13.420000</td>\n",
       "      <td>-13.000000</td>\n",
       "      <td>0.000000</td>\n",
       "    </tr>\n",
       "    <tr>\n",
       "      <th>25%</th>\n",
       "      <td>52.000000</td>\n",
       "      <td>5.000000</td>\n",
       "      <td>0.000000</td>\n",
       "      <td>0.000000</td>\n",
       "      <td>0.000000</td>\n",
       "      <td>1.400000</td>\n",
       "      <td>48.137500</td>\n",
       "      <td>0.000000</td>\n",
       "      <td>0.000000</td>\n",
       "    </tr>\n",
       "    <tr>\n",
       "      <th>50%</th>\n",
       "      <td>103.000000</td>\n",
       "      <td>11.000000</td>\n",
       "      <td>0.000000</td>\n",
       "      <td>11.000000</td>\n",
       "      <td>0.000000</td>\n",
       "      <td>2.100000</td>\n",
       "      <td>66.495000</td>\n",
       "      <td>7.000000</td>\n",
       "      <td>1.032293</td>\n",
       "    </tr>\n",
       "    <tr>\n",
       "      <th>75%</th>\n",
       "      <td>155.000000</td>\n",
       "      <td>18.000000</td>\n",
       "      <td>30.000000</td>\n",
       "      <td>100.000000</td>\n",
       "      <td>355.000000</td>\n",
       "      <td>3.000000</td>\n",
       "      <td>80.680000</td>\n",
       "      <td>15.000000</td>\n",
       "      <td>31.810235</td>\n",
       "    </tr>\n",
       "    <tr>\n",
       "      <th>max</th>\n",
       "      <td>208.000000</td>\n",
       "      <td>23.000000</td>\n",
       "      <td>30.000000</td>\n",
       "      <td>528.000000</td>\n",
       "      <td>1059.000000</td>\n",
       "      <td>8.000000</td>\n",
       "      <td>100.000000</td>\n",
       "      <td>33.000000</td>\n",
       "      <td>97.849989</td>\n",
       "    </tr>\n",
       "  </tbody>\n",
       "</table>\n",
       "</div>"
      ],
      "text/plain": [
       "               Day         Hour       Minute          DHI          DNI  \\\n",
       "count  9000.000000  9000.000000  9000.000000  9000.000000  9000.000000   \n",
       "mean    103.671556    11.500444    14.983333    76.931778   208.159556   \n",
       "std      60.059711     6.931218    15.000824   119.150870   333.305000   \n",
       "min       0.000000     0.000000     0.000000     0.000000     0.000000   \n",
       "25%      52.000000     5.000000     0.000000     0.000000     0.000000   \n",
       "50%     103.000000    11.000000     0.000000    11.000000     0.000000   \n",
       "75%     155.000000    18.000000    30.000000   100.000000   355.000000   \n",
       "max     208.000000    23.000000    30.000000   528.000000  1059.000000   \n",
       "\n",
       "                WS           RH            T       TARGET  \n",
       "count  9000.000000  9000.000000  9000.000000  9000.000000  \n",
       "mean      2.305856    64.191710     8.242444    18.174328  \n",
       "std       1.259179    21.984384     9.553884    26.084176  \n",
       "min       0.100000    13.420000   -13.000000     0.000000  \n",
       "25%       1.400000    48.137500     0.000000     0.000000  \n",
       "50%       2.100000    66.495000     7.000000     1.032293  \n",
       "75%       3.000000    80.680000    15.000000    31.810235  \n",
       "max       8.000000   100.000000    33.000000    97.849989  "
      ]
     },
     "execution_count": 3,
     "metadata": {},
     "output_type": "execute_result"
    }
   ],
   "source": [
    "train.describe()"
   ]
  },
  {
   "cell_type": "code",
   "execution_count": 4,
   "metadata": {},
   "outputs": [
    {
     "data": {
      "text/html": [
       "<div>\n",
       "<style scoped>\n",
       "    .dataframe tbody tr th:only-of-type {\n",
       "        vertical-align: middle;\n",
       "    }\n",
       "\n",
       "    .dataframe tbody tr th {\n",
       "        vertical-align: top;\n",
       "    }\n",
       "\n",
       "    .dataframe thead th {\n",
       "        text-align: right;\n",
       "    }\n",
       "</style>\n",
       "<table border=\"1\" class=\"dataframe\">\n",
       "  <thead>\n",
       "    <tr style=\"text-align: right;\">\n",
       "      <th></th>\n",
       "      <th>Day</th>\n",
       "      <th>Hour</th>\n",
       "      <th>Minute</th>\n",
       "      <th>DHI</th>\n",
       "      <th>DNI</th>\n",
       "      <th>WS</th>\n",
       "      <th>RH</th>\n",
       "      <th>T</th>\n",
       "    </tr>\n",
       "  </thead>\n",
       "  <tbody>\n",
       "    <tr>\n",
       "      <th>count</th>\n",
       "      <td>1000.000000</td>\n",
       "      <td>1000.000000</td>\n",
       "      <td>1000.000000</td>\n",
       "      <td>1000.000000</td>\n",
       "      <td>1000.000000</td>\n",
       "      <td>1000.000000</td>\n",
       "      <td>1000.000000</td>\n",
       "      <td>1000.000000</td>\n",
       "    </tr>\n",
       "    <tr>\n",
       "      <th>mean</th>\n",
       "      <td>103.628000</td>\n",
       "      <td>11.368000</td>\n",
       "      <td>15.150000</td>\n",
       "      <td>77.698000</td>\n",
       "      <td>220.428000</td>\n",
       "      <td>2.306200</td>\n",
       "      <td>63.741840</td>\n",
       "      <td>8.424000</td>\n",
       "    </tr>\n",
       "    <tr>\n",
       "      <th>std</th>\n",
       "      <td>60.926658</td>\n",
       "      <td>6.870938</td>\n",
       "      <td>15.006755</td>\n",
       "      <td>115.019487</td>\n",
       "      <td>339.075852</td>\n",
       "      <td>1.238845</td>\n",
       "      <td>21.981933</td>\n",
       "      <td>9.857961</td>\n",
       "    </tr>\n",
       "    <tr>\n",
       "      <th>min</th>\n",
       "      <td>0.000000</td>\n",
       "      <td>0.000000</td>\n",
       "      <td>0.000000</td>\n",
       "      <td>0.000000</td>\n",
       "      <td>0.000000</td>\n",
       "      <td>0.200000</td>\n",
       "      <td>14.130000</td>\n",
       "      <td>-14.000000</td>\n",
       "    </tr>\n",
       "    <tr>\n",
       "      <th>25%</th>\n",
       "      <td>49.750000</td>\n",
       "      <td>5.000000</td>\n",
       "      <td>0.000000</td>\n",
       "      <td>0.000000</td>\n",
       "      <td>0.000000</td>\n",
       "      <td>1.400000</td>\n",
       "      <td>47.560000</td>\n",
       "      <td>1.000000</td>\n",
       "    </tr>\n",
       "    <tr>\n",
       "      <th>50%</th>\n",
       "      <td>106.000000</td>\n",
       "      <td>11.000000</td>\n",
       "      <td>30.000000</td>\n",
       "      <td>18.000000</td>\n",
       "      <td>0.000000</td>\n",
       "      <td>2.100000</td>\n",
       "      <td>65.225000</td>\n",
       "      <td>7.000000</td>\n",
       "    </tr>\n",
       "    <tr>\n",
       "      <th>75%</th>\n",
       "      <td>158.000000</td>\n",
       "      <td>17.000000</td>\n",
       "      <td>30.000000</td>\n",
       "      <td>108.000000</td>\n",
       "      <td>415.250000</td>\n",
       "      <td>3.000000</td>\n",
       "      <td>80.890000</td>\n",
       "      <td>15.000000</td>\n",
       "    </tr>\n",
       "    <tr>\n",
       "      <th>max</th>\n",
       "      <td>208.000000</td>\n",
       "      <td>23.000000</td>\n",
       "      <td>30.000000</td>\n",
       "      <td>524.000000</td>\n",
       "      <td>1057.000000</td>\n",
       "      <td>8.000000</td>\n",
       "      <td>100.000000</td>\n",
       "      <td>33.000000</td>\n",
       "    </tr>\n",
       "  </tbody>\n",
       "</table>\n",
       "</div>"
      ],
      "text/plain": [
       "               Day         Hour       Minute          DHI          DNI  \\\n",
       "count  1000.000000  1000.000000  1000.000000  1000.000000  1000.000000   \n",
       "mean    103.628000    11.368000    15.150000    77.698000   220.428000   \n",
       "std      60.926658     6.870938    15.006755   115.019487   339.075852   \n",
       "min       0.000000     0.000000     0.000000     0.000000     0.000000   \n",
       "25%      49.750000     5.000000     0.000000     0.000000     0.000000   \n",
       "50%     106.000000    11.000000    30.000000    18.000000     0.000000   \n",
       "75%     158.000000    17.000000    30.000000   108.000000   415.250000   \n",
       "max     208.000000    23.000000    30.000000   524.000000  1057.000000   \n",
       "\n",
       "                WS           RH            T  \n",
       "count  1000.000000  1000.000000  1000.000000  \n",
       "mean      2.306200    63.741840     8.424000  \n",
       "std       1.238845    21.981933     9.857961  \n",
       "min       0.200000    14.130000   -14.000000  \n",
       "25%       1.400000    47.560000     1.000000  \n",
       "50%       2.100000    65.225000     7.000000  \n",
       "75%       3.000000    80.890000    15.000000  \n",
       "max       8.000000   100.000000    33.000000  "
      ]
     },
     "execution_count": 4,
     "metadata": {},
     "output_type": "execute_result"
    }
   ],
   "source": [
    "test.describe()"
   ]
  },
  {
   "cell_type": "code",
   "execution_count": 5,
   "metadata": {},
   "outputs": [],
   "source": [
    "train_x = train.drop(['TARGET'], axis=1)\n",
    "train_y = train['TARGET']"
   ]
  },
  {
   "cell_type": "code",
   "execution_count": 6,
   "metadata": {},
   "outputs": [],
   "source": [
    "#sc=MinMaxScaler()"
   ]
  },
  {
   "cell_type": "code",
   "execution_count": 7,
   "metadata": {},
   "outputs": [],
   "source": [
    "#train_x['Day'] = sc.fit_transform(train_x.loc[:,train_x.columns == 'Day'])\n",
    "#test['Day'] = sc.transform(test.loc[:,test.columns =='Day'])"
   ]
  },
  {
   "cell_type": "code",
   "execution_count": 8,
   "metadata": {},
   "outputs": [],
   "source": [
    "#train_x['DHI'] = sc.fit_transform(train_x.loc[:,train_x.columns == 'DHI'])\n",
    "#test['DHI'] = sc.transform(test.loc[:,test.columns =='DHI'])"
   ]
  },
  {
   "cell_type": "code",
   "execution_count": 9,
   "metadata": {},
   "outputs": [],
   "source": [
    "#train_x['DHI'] = sc.fit_transform(train_x.loc[:,train_x.columns == 'DNI'])\n",
    "#test['DHI'] = sc.transform(test.loc[:,test.columns =='DNI'])"
   ]
  },
  {
   "cell_type": "code",
   "execution_count": 10,
   "metadata": {},
   "outputs": [],
   "source": [
    "Model1= RandomForestRegressor(max_depth = 12)\n",
    "Model2= DecisionTreeRegressor(max_depth = 12)"
   ]
  },
  {
   "cell_type": "code",
   "execution_count": 11,
   "metadata": {},
   "outputs": [
    {
     "data": {
      "text/plain": [
       "DecisionTreeRegressor(max_depth=12)"
      ]
     },
     "execution_count": 11,
     "metadata": {},
     "output_type": "execute_result"
    }
   ],
   "source": [
    "Model1.fit(train_x, train_y)\n",
    "Model2.fit(train_x, train_y)"
   ]
  },
  {
   "cell_type": "code",
   "execution_count": 12,
   "metadata": {},
   "outputs": [],
   "source": [
    "pred_y1 = Model1.predict(train_x)\n",
    "pred_y2 = Model2.predict(train_x)"
   ]
  },
  {
   "cell_type": "code",
   "execution_count": 13,
   "metadata": {},
   "outputs": [
    {
     "name": "stdout",
     "output_type": "stream",
     "text": [
      "0.9996349888077607\n",
      "0.9993300105003892\n"
     ]
    }
   ],
   "source": [
    "print(Model1.score(train_x, train_y))\n",
    "print(Model2.score(train_x, train_y)) #성능지표상 의사결정나무의 score가 좀더 높음"
   ]
  },
  {
   "cell_type": "markdown",
   "metadata": {},
   "source": [
    "-Score after MINMAXSCALER data processing   \n",
    "DecisionTree : 0.9976119124450851  \n",
    "RandomForest : 0.9966797931591944"
   ]
  },
  {
   "cell_type": "code",
   "execution_count": 14,
   "metadata": {},
   "outputs": [],
   "source": [
    "prediction = Model1.predict(test)"
   ]
  },
  {
   "cell_type": "code",
   "execution_count": 15,
   "metadata": {},
   "outputs": [],
   "source": [
    "submit['TARGET'] = prediction\n",
    "submit.to_csv('submission.csv', index = False)"
   ]
  },
  {
   "cell_type": "code",
   "execution_count": null,
   "metadata": {},
   "outputs": [],
   "source": []
  }
 ],
 "metadata": {
  "kernelspec": {
   "display_name": "Python 3",
   "language": "python",
   "name": "python3"
  },
  "language_info": {
   "codemirror_mode": {
    "name": "ipython",
    "version": 3
   },
   "file_extension": ".py",
   "mimetype": "text/x-python",
   "name": "python",
   "nbconvert_exporter": "python",
   "pygments_lexer": "ipython3",
   "version": "3.8.3"
  }
 },
 "nbformat": 4,
 "nbformat_minor": 4
}
