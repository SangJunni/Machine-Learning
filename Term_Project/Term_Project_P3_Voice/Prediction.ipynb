{
 "cells": [
  {
   "cell_type": "markdown",
   "metadata": {},
   "source": [
    "JUPYTER 환경에서 진행하였습니다. 코드상의 파일 경로가 수정되어서 진행되었습니다.\n",
    "===="
   ]
  },
  {
   "cell_type": "code",
   "execution_count": 1,
   "metadata": {},
   "outputs": [],
   "source": [
    "import pandas as pd\n",
    "import numpy as np\n",
    "import sklearn\n",
    "\n",
    "import os\n",
    "from os.path import join"
   ]
  },
  {
   "cell_type": "code",
   "execution_count": 2,
   "metadata": {},
   "outputs": [
    {
     "name": "stdout",
     "output_type": "stream",
     "text": [
      "<class 'pandas.core.frame.DataFrame'>\n",
      "RangeIndex: 1008 entries, 0 to 1007\n",
      "Data columns (total 3 columns):\n",
      " #   Column     Non-Null Count  Dtype \n",
      "---  ------     --------------  ----- \n",
      " 0   ID         1008 non-null   int64 \n",
      " 1   file_name  1008 non-null   object\n",
      " 2   emotion    1008 non-null   object\n",
      "dtypes: int64(1), object(2)\n",
      "memory usage: 23.8+ KB\n",
      "<class 'pandas.core.frame.DataFrame'>\n",
      "RangeIndex: 432 entries, 0 to 431\n",
      "Data columns (total 2 columns):\n",
      " #   Column     Non-Null Count  Dtype \n",
      "---  ------     --------------  ----- \n",
      " 0   ID         432 non-null    int64 \n",
      " 1   file_name  432 non-null    object\n",
      "dtypes: int64(1), object(1)\n",
      "memory usage: 6.9+ KB\n",
      "None None\n"
     ]
    }
   ],
   "source": [
    "pd_train = pd.read_csv('train_data.csv')\n",
    "pd_test = pd.read_csv('test_data.csv')\n",
    "\n",
    "print(pd_train.info(), pd_test.info())"
   ]
  },
  {
   "cell_type": "code",
   "execution_count": 3,
   "metadata": {},
   "outputs": [],
   "source": [
    "import librosa\n",
    "import glob, pickle\n",
    "import numpy as np\n",
    "from sklearn.model_selection import train_test_split\n",
    "from sklearn.metrics import accuracy_score\n",
    "import matplotlib.pyplot as plt\n",
    "import librosa, librosa.display \n",
    "\n",
    "\n",
    "# -------------------------------------\n",
    "# extract_feature(file_name): <= 코드를 추가하여 음성 feature를 추출하는 코드를 완성하세요\n",
    "# -------------------------------------\n",
    "# 목적: MFCC를 비롯한 여러 음성 feature를 추출\n",
    "# 입력인자: .wav 음성 파일의 이름\n",
    "# 출력인자: 입력 파일을 가공한 feature들 (Spectrogram, Mel-spectrogram, MFCC)\n",
    "# -------------------------------------\n",
    "\n",
    "\n",
    "def extract_feature(file_name):\n",
    "    \n",
    "    \n",
    "    result=np.array([])\n",
    "    X, sample_rate = librosa.load(file_name, sr=22050)\n",
    "    #----------step3. spectrogram을 구하세요.---------------------\n",
    "    # 구현 가이드 라인(3)\n",
    "    # ------------------------------------------------------------------------------\n",
    "    # 1. 입력 신호(X)를 librosa.stft 함수의 입력으로 하여 spectrogram을 구하세요.\n",
    "    #   -참고) 사람의 음성은 20~40(ms) 사이 시간 내에서 현재 말하는 발음을 변경할 수 없다고 합니다.\n",
    "    #       시간축에 대한 구간을 나눌 때 20~40(ms) 이내 간격으로 나누기 위하여 n_fft 파라미터 값을 조정해주세요.(베이스라인 성능은 23ms 간격으로 나누었습니다.)\n",
    "    #       정확한 조정을 위하여 librosa documentation에서 librosa.stft 함수 내 n_fft 파라미터 설명을 참조하세요.\n",
    "    #\n",
    "    # 2. spectrogram에 절대값을 취하여 복소수 형태의 값을 바꾸세요.\n",
    "    #\n",
    "    # 3. 구한 spectrogram을 학습에 사용하기 위하여 프레임 축의 평균값을 취한 뒤 spectrogram_feature에 저장해주세요\n",
    "    #   -참고) spectrogram의 shape은 (frequency의 길이, 프레임 수)로 이루어져있습니다.\n",
    "    #       (np.mean함수를 사용하여 spectrogram의 shape이 (1, frequency의 길이)가 되면 성공.)\n",
    "    # -----------------------------------------------------------------------------\n",
    "    spectrogram = np.abs(librosa.stft(X, n_fft = 1024)) #베이스라인의 두배에 해당하는 n_fft 설정\n",
    "    spectrogram_feature =np.mean(spectrogram, axis =1) #평균 feature를 구하는 과정\n",
    "    #-------------------------------------------------------------------------------\n",
    "    \n",
    "    #----------step4. Mel-spectrogram을 구하세요.---------------------\n",
    "    # 구현 가이드 라인(4)\n",
    "    # ------------------------------------------------------------------------------\n",
    "    # 1. step3-2에서 구한 spectrogram을 제곱하여 power spectrogram을 만드세요.\n",
    "    #\n",
    "    # 2. power spectrogram을 librosa.feature.melspectrogram 함수의 입력으로 하여 mel-spectrogram을 구하세요.\n",
    "    #   - 참고) documentation을 통해 librosa.feature.melspectrogram 함수의 입력 인자를 꼭 확인하셔서 올바르게 넣어주세요.\n",
    "    #\n",
    "    # 3. step4-2에서 구한 mel-spectrogram은 power-magnitude 값입니다. librosa.power_to_db함수를 통하여 power magnitude를 데쉬벨(db)로 변환하세요.\n",
    "    #\n",
    "    # 4. 구한 mel-spectrogram을 학습에 사용하기 위하여 프레임 축의 평균값을 취한 뒤 mel_spectrogram_feature에 저장해주세요\n",
    "    #   -참고) mel-spectrogram의 shape은 (mel filter의 길이, 프레임 수)로 이루어져있습니다.\n",
    "    #       (np.mean함수를 사용하여 mel-spectrogram의 shape이 (1, mel filter의 길이)가 되면 성공.)\n",
    "    # -----------------------------------------------------------------------------\n",
    "    #power_spectrogram = pow(spectrogram, 2)\n",
    "    power_spectrogram = spectrogram**2 #제곱 값을 취하는 과정\n",
    "    mel_spectrogram = librosa.feature.melspectrogram(S = power_spectrogram) #mel spectrogram을 구하는 과정\n",
    "    mel_spectrogram = librosa.power_to_db(mel_spectrogram) #dB scale convert\n",
    "    mel_spectrogram_feature= np.mean(mel_spectrogram, axis =1) #평균으로 피쳐 추출\n",
    "    #-------------------------------------------------------------------------------\n",
    "\n",
    "    #----------step5. MFCC를 구하세요.---------------------\n",
    "    # 구현 가이드 라인(5)\n",
    "    # ------------------------------------------------------------------------------ \n",
    "    # 1. step4-3에서 데쉬벨로 변환한 mel-spectrogram을 librosa.feature.mfcc 함수의 입력으로 하여 MFCC를 구하세요.\n",
    "    #   - 참고) documentation을 통해 librosa.feature.mfcc 함수의 입력 인자를 꼭 확인하셔서 올바르게 넣어주세요.\n",
    "    #\n",
    "    # 2. 구한 MFCC 학습에 사용하기 위하여 프레임 축의 평균값을 취한 뒤 mfcc_feature에 저장해주세요\n",
    "    # -참고) MFCC shape은 (MFCC의 길이, 프레임 수)로 이루어져있습니다.\n",
    "    #       (np.mean함수를 사용하여 MFCC의 shape이 (1, MFCC의 길이)가 되면 성공.)\n",
    "    # -----------------------------------------------------------------------------\n",
    "    mfcc = librosa.feature.mfcc(S = mel_spectrogram) #mfcc 값 출력\n",
    "    \n",
    "    mfcc_feature = np.mean(mfcc, axis =1) #평균으로 피쳐 추출\n",
    "    #-------------------------------------------------------------------------------\n",
    "\n",
    "    return spectrogram_feature, mel_spectrogram_feature, mfcc_feature "
   ]
  },
  {
   "cell_type": "code",
   "execution_count": 4,
   "metadata": {},
   "outputs": [
    {
     "name": "stderr",
     "output_type": "stream",
     "text": [
      "1008it [01:05, 15.30it/s]\n",
      "100%|████████████████████████████████████████████████████████████████████████████████| 432/432 [00:27<00:00, 15.75it/s]\n"
     ]
    }
   ],
   "source": [
    "#DataFlair - Load the data and extract features for each sound file\n",
    "from tqdm import tqdm\n",
    "def load_data(data_info, isTrain=True):\n",
    "    \n",
    "    PATH = join('train_data/train_data/') #오프라인에서의 경로\n",
    "    if isTrain:\n",
    "        train_data = {'spectrogram':[],'mel':[],'mfcc':[]}#음성 feature들을 담는 dictionary\n",
    "        train_label = []#학습에 사용할 label을 담는 list\n",
    "        \n",
    "        file_list = data_info['file_name']\n",
    "        emotion_list = data_info['emotion']\n",
    "        for file_name, emotion in tqdm(zip(file_list, emotion_list)):\n",
    "            # ------------- step1. 학습용 데이터로더 코드를 작성하세요.----------------------\n",
    "            # 구현 가이드라인  (1)\n",
    "            # ------------------------------------------------------------\n",
    "            # train.csv 파일에 있는 음성 파일의 이름과 emotion 정보를 통하여 학습용 데이터를 로드하세요.\n",
    "            # 음성 파일의 정확한 경로 명을 extract_feature 함수의 입력으로 넣을 수 있게 경로를 잘 설정해보세요.\n",
    "            # extract_feature를 통해 구한 음성 feature들을 train_data 사전 속 배열에 알맞게 append 해주세요. ex) train_data['spectrogram'].append(spectrogram_feature)\n",
    "            # ------------------------------------------------------------\n",
    "            # 구현 가이드라인을 참고하여 코드를 작성해보세요.\n",
    "            \n",
    "            spectrogram_feature, mel_feature, mfcc_feature = extract_feature(join(PATH, file_name)) #데이터 로드하여 feature 추출\n",
    "            train_data['spectrogram'].append(spectrogram_feature) #학습 데이터에 추가하는 과정\n",
    "            train_data['mel'].append(mel_feature)\n",
    "            train_data['mfcc'].append(mfcc_feature)\n",
    "            train_label.append(emotion) #레이블 추가 과정\n",
    "            #----------------------------------------------------------------------------------------- \n",
    "            \n",
    "        return train_data, np.array(train_label)\n",
    "    \n",
    "    else:\n",
    "        test_data = {'spectrogram':[],'mel':[],'mfcc':[]}#음성 feature들을 담는 dictionary\n",
    "        file_list = data_info['file_name']\n",
    "        PATH = join('test_data/test_data/') #오프라인 환경에서의 test 데이터 위치\n",
    "    \n",
    "        for file_name in tqdm(file_list):\n",
    "            # -------------step2. 평가용 데이터로더 코드를 작성하세요.-----------------\n",
    "            # 구현 가이드라인  (2)\n",
    "            # ------------------------------------------------------------\n",
    "            # test.csv 파일에 있는 음성 파일의 이름정보를 통하여 평가용 데이터를 로드하세요.\n",
    "            # 음성 파일의 정확한 경로 명을 extract_feature 함수의 입력으로 넣을 수 있게 경로를 잘 설정해보세요.\n",
    "            # extract_feature를 통해 구한 음성 feature들을 test_data 사전 속 배열에 알맞게 append 해주세요. ex) test_data['spectrogram'].append(spectrogram_feature)\n",
    "            # ------------------------------------------------------------\n",
    "            # 구현 가이드라인을 참고하여 코드를 작성해보세요.\n",
    "            \n",
    "            spectrogram_feature, mel_feature, mfcc_feature = extract_feature(join(PATH, file_name))\n",
    "            test_data['spectrogram'].append(spectrogram_feature) #test 데이터에 feature 추가\n",
    "            test_data['mel'].append(mel_feature)\n",
    "            test_data['mfcc'].append(mfcc_feature)\n",
    "            #----------------------------------------------------------------------------------------- \n",
    "            \n",
    "        return test_data\n",
    "\n",
    "#DataFlair - Split the dataset\n",
    "train_data, y_train = load_data(pd_train)\n",
    "test_data = load_data(pd_test, isTrain=False)"
   ]
  },
  {
   "cell_type": "code",
   "execution_count": 5,
   "metadata": {},
   "outputs": [
    {
     "data": {
      "text/plain": [
       "(1008, 20)"
      ]
     },
     "execution_count": 5,
     "metadata": {},
     "output_type": "execute_result"
    }
   ],
   "source": [
    "np.shape(train_data['mfcc']) #데이터 shape 확인"
   ]
  },
  {
   "cell_type": "code",
   "execution_count": 6,
   "metadata": {},
   "outputs": [],
   "source": [
    "#RandomForestClassifier로 음성 감정 분류 학습 및 평가\n",
    "from sklearn.ensemble import RandomForestClassifier\n",
    "sample = pd.read_csv('sample_submit.csv')\n",
    "\n",
    "for feature_name in train_data.keys():\n",
    "    # ------------- step6. 음성 feature들을 가지고 모델을 학습하세요.----------------------\n",
    "    # 구현 가이드라인  (6)\n",
    "    # ------------------------------------------------------------\n",
    "    # dictionary 형태의 train_data 변수 내에는 spectrogram, mel-spectrogram, mfcc feature들이 존재합니다.\n",
    "    # 반복문을 통해 각 종류의 feature를 하나씩 불러오세요. ex) x_train = np.array(train_data[feature_name])\n",
    "    # 불러온 feature로 모델을 학습 및 추론 후 sample submit파일에 저장하세요.\n",
    "    # ------------------------------------------------------------\n",
    "    # 구현 가이드라인을 참고하여 코드를 작성해보세요.\n",
    "    \n",
    "    x_train = np.array(train_data[feature_name]) #매 iter마다 x_train 변경되도록 설정\n",
    "    model = RandomForestClassifier(random_state=1, n_jobs = 8) #n_jobs 8으로 CPU 8개가 연산 처리하도록 설정\n",
    "    model.fit(x_train, y_train) #학습\n",
    "    predict = model.predict(np.array(test_data[feature_name])) #예측\n",
    "    #Sample submit file 저장\n",
    "    sample['emotion'] = predict.reshape(-1,1) \n",
    "    sample.to_csv(join(feature_name+'.csv'),index=False,header=True)\n"
   ]
  },
  {
   "cell_type": "code",
   "execution_count": null,
   "metadata": {},
   "outputs": [],
   "source": []
  }
 ],
 "metadata": {
  "kernelspec": {
   "display_name": "Python 3",
   "language": "python",
   "name": "python3"
  },
  "language_info": {
   "codemirror_mode": {
    "name": "ipython",
    "version": 3
   },
   "file_extension": ".py",
   "mimetype": "text/x-python",
   "name": "python",
   "nbconvert_exporter": "python",
   "pygments_lexer": "ipython3",
   "version": "3.8.3"
  }
 },
 "nbformat": 4,
 "nbformat_minor": 4
}
