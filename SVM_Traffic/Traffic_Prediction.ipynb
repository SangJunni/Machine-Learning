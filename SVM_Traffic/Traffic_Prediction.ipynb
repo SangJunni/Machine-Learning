{
 "cells": [
  {
   "cell_type": "code",
   "execution_count": 1,
   "metadata": {},
   "outputs": [],
   "source": [
    "import warnings  \n",
    "warnings.filterwarnings('ignore')\n",
    "\n",
    "import numpy as np\n",
    "import pandas as pd\n",
    "from sklearn.svm import SVR\n",
    "from sklearn.model_selection import GridSearchCV\n",
    "from sklearn.preprocessing import MinMaxScaler"
   ]
  },
  {
   "cell_type": "code",
   "execution_count": 2,
   "metadata": {},
   "outputs": [],
   "source": [
    "train_x = pd.DataFrame(pd.read_csv('x_train.csv',engine='python',encoding='CP949'))\n",
    "train_y = pd.read_csv('y_train.csv',engine='python',encoding='CP949')\n",
    "test = pd.DataFrame(pd.read_csv('x_test.csv',engine='python',encoding='CP949'))\n",
    "submit = pd.read_csv('submission.csv')"
   ]
  },
  {
   "cell_type": "code",
   "execution_count": 3,
   "metadata": {},
   "outputs": [
    {
     "data": {
      "text/plain": [
       "시도명         0\n",
       "읍면동명        0\n",
       "거주인구        0\n",
       "근무인구        0\n",
       "방문인구        0\n",
       "총 유동인구      0\n",
       "평균 속도       0\n",
       "평균 소요 시간    0\n",
       "평균 기온       0\n",
       "일강수량        0\n",
       "평균 풍속       0\n",
       "월           0\n",
       "일           0\n",
       "년           0\n",
       "dtype: int64"
      ]
     },
     "execution_count": 3,
     "metadata": {},
     "output_type": "execute_result"
    }
   ],
   "source": [
    "train_x.isnull().sum()"
   ]
  },
  {
   "cell_type": "code",
   "execution_count": 4,
   "metadata": {},
   "outputs": [
    {
     "data": {
      "text/html": [
       "<div>\n",
       "<style scoped>\n",
       "    .dataframe tbody tr th:only-of-type {\n",
       "        vertical-align: middle;\n",
       "    }\n",
       "\n",
       "    .dataframe tbody tr th {\n",
       "        vertical-align: top;\n",
       "    }\n",
       "\n",
       "    .dataframe thead th {\n",
       "        text-align: right;\n",
       "    }\n",
       "</style>\n",
       "<table border=\"1\" class=\"dataframe\">\n",
       "  <thead>\n",
       "    <tr style=\"text-align: right;\">\n",
       "      <th></th>\n",
       "      <th>시도명</th>\n",
       "      <th>읍면동명</th>\n",
       "      <th>거주인구</th>\n",
       "      <th>근무인구</th>\n",
       "      <th>방문인구</th>\n",
       "      <th>총 유동인구</th>\n",
       "      <th>평균 속도</th>\n",
       "      <th>평균 소요 시간</th>\n",
       "      <th>평균 기온</th>\n",
       "      <th>일강수량</th>\n",
       "      <th>평균 풍속</th>\n",
       "      <th>월</th>\n",
       "      <th>일</th>\n",
       "      <th>년</th>\n",
       "    </tr>\n",
       "  </thead>\n",
       "  <tbody>\n",
       "    <tr>\n",
       "      <th>count</th>\n",
       "      <td>21486.000000</td>\n",
       "      <td>21486.000000</td>\n",
       "      <td>2.148600e+04</td>\n",
       "      <td>21486.000000</td>\n",
       "      <td>21486.000000</td>\n",
       "      <td>2.148600e+04</td>\n",
       "      <td>21486.000000</td>\n",
       "      <td>21486.000000</td>\n",
       "      <td>21486.000000</td>\n",
       "      <td>21486.000000</td>\n",
       "      <td>21486.000000</td>\n",
       "      <td>21486.000000</td>\n",
       "      <td>21486.000000</td>\n",
       "      <td>21486.000000</td>\n",
       "    </tr>\n",
       "    <tr>\n",
       "      <th>mean</th>\n",
       "      <td>0.596435</td>\n",
       "      <td>19.815322</td>\n",
       "      <td>3.173133e+05</td>\n",
       "      <td>35610.667755</td>\n",
       "      <td>196055.537429</td>\n",
       "      <td>5.489795e+05</td>\n",
       "      <td>41.090723</td>\n",
       "      <td>37.192712</td>\n",
       "      <td>13.568007</td>\n",
       "      <td>7.325534</td>\n",
       "      <td>2.746740</td>\n",
       "      <td>6.078563</td>\n",
       "      <td>15.740343</td>\n",
       "      <td>2018.730103</td>\n",
       "    </tr>\n",
       "    <tr>\n",
       "      <th>std</th>\n",
       "      <td>0.490624</td>\n",
       "      <td>11.848479</td>\n",
       "      <td>2.986918e+05</td>\n",
       "      <td>40520.154917</td>\n",
       "      <td>140616.040681</td>\n",
       "      <td>4.615707e+05</td>\n",
       "      <td>8.694502</td>\n",
       "      <td>12.959750</td>\n",
       "      <td>7.732429</td>\n",
       "      <td>28.564031</td>\n",
       "      <td>1.483265</td>\n",
       "      <td>3.496635</td>\n",
       "      <td>8.808749</td>\n",
       "      <td>0.704910</td>\n",
       "    </tr>\n",
       "    <tr>\n",
       "      <th>min</th>\n",
       "      <td>0.000000</td>\n",
       "      <td>0.000000</td>\n",
       "      <td>9.305552e+03</td>\n",
       "      <td>1172.448000</td>\n",
       "      <td>10788.381000</td>\n",
       "      <td>2.225181e+04</td>\n",
       "      <td>23.545000</td>\n",
       "      <td>12.667000</td>\n",
       "      <td>-11.600000</td>\n",
       "      <td>0.000000</td>\n",
       "      <td>0.000000</td>\n",
       "      <td>1.000000</td>\n",
       "      <td>1.000000</td>\n",
       "      <td>2018.000000</td>\n",
       "    </tr>\n",
       "    <tr>\n",
       "      <th>25%</th>\n",
       "      <td>0.000000</td>\n",
       "      <td>10.000000</td>\n",
       "      <td>9.545104e+04</td>\n",
       "      <td>12172.578500</td>\n",
       "      <td>100026.639500</td>\n",
       "      <td>2.228646e+05</td>\n",
       "      <td>34.250000</td>\n",
       "      <td>27.909000</td>\n",
       "      <td>7.600000</td>\n",
       "      <td>0.000000</td>\n",
       "      <td>1.750000</td>\n",
       "      <td>3.000000</td>\n",
       "      <td>8.000000</td>\n",
       "      <td>2018.000000</td>\n",
       "    </tr>\n",
       "    <tr>\n",
       "      <th>50%</th>\n",
       "      <td>1.000000</td>\n",
       "      <td>20.000000</td>\n",
       "      <td>2.214727e+05</td>\n",
       "      <td>21871.497000</td>\n",
       "      <td>153199.927500</td>\n",
       "      <td>3.869563e+05</td>\n",
       "      <td>39.622000</td>\n",
       "      <td>34.461000</td>\n",
       "      <td>13.333000</td>\n",
       "      <td>0.000000</td>\n",
       "      <td>2.400000</td>\n",
       "      <td>6.000000</td>\n",
       "      <td>16.000000</td>\n",
       "      <td>2019.000000</td>\n",
       "    </tr>\n",
       "    <tr>\n",
       "      <th>75%</th>\n",
       "      <td>1.000000</td>\n",
       "      <td>30.000000</td>\n",
       "      <td>4.079880e+05</td>\n",
       "      <td>40200.021750</td>\n",
       "      <td>235891.613250</td>\n",
       "      <td>6.389216e+05</td>\n",
       "      <td>49.040000</td>\n",
       "      <td>46.071000</td>\n",
       "      <td>19.700000</td>\n",
       "      <td>1.500000</td>\n",
       "      <td>3.400000</td>\n",
       "      <td>9.000000</td>\n",
       "      <td>23.000000</td>\n",
       "      <td>2019.000000</td>\n",
       "    </tr>\n",
       "    <tr>\n",
       "      <th>max</th>\n",
       "      <td>1.000000</td>\n",
       "      <td>40.000000</td>\n",
       "      <td>1.353561e+06</td>\n",
       "      <td>265708.771000</td>\n",
       "      <td>786387.113000</td>\n",
       "      <td>2.079278e+06</td>\n",
       "      <td>95.000000</td>\n",
       "      <td>172.200000</td>\n",
       "      <td>30.400000</td>\n",
       "      <td>587.500000</td>\n",
       "      <td>17.700000</td>\n",
       "      <td>12.000000</td>\n",
       "      <td>31.000000</td>\n",
       "      <td>2020.000000</td>\n",
       "    </tr>\n",
       "  </tbody>\n",
       "</table>\n",
       "</div>"
      ],
      "text/plain": [
       "                시도명          읍면동명          거주인구           근무인구           방문인구  \\\n",
       "count  21486.000000  21486.000000  2.148600e+04   21486.000000   21486.000000   \n",
       "mean       0.596435     19.815322  3.173133e+05   35610.667755  196055.537429   \n",
       "std        0.490624     11.848479  2.986918e+05   40520.154917  140616.040681   \n",
       "min        0.000000      0.000000  9.305552e+03    1172.448000   10788.381000   \n",
       "25%        0.000000     10.000000  9.545104e+04   12172.578500  100026.639500   \n",
       "50%        1.000000     20.000000  2.214727e+05   21871.497000  153199.927500   \n",
       "75%        1.000000     30.000000  4.079880e+05   40200.021750  235891.613250   \n",
       "max        1.000000     40.000000  1.353561e+06  265708.771000  786387.113000   \n",
       "\n",
       "             총 유동인구         평균 속도      평균 소요 시간         평균 기온          일강수량  \\\n",
       "count  2.148600e+04  21486.000000  21486.000000  21486.000000  21486.000000   \n",
       "mean   5.489795e+05     41.090723     37.192712     13.568007      7.325534   \n",
       "std    4.615707e+05      8.694502     12.959750      7.732429     28.564031   \n",
       "min    2.225181e+04     23.545000     12.667000    -11.600000      0.000000   \n",
       "25%    2.228646e+05     34.250000     27.909000      7.600000      0.000000   \n",
       "50%    3.869563e+05     39.622000     34.461000     13.333000      0.000000   \n",
       "75%    6.389216e+05     49.040000     46.071000     19.700000      1.500000   \n",
       "max    2.079278e+06     95.000000    172.200000     30.400000    587.500000   \n",
       "\n",
       "              평균 풍속             월             일             년  \n",
       "count  21486.000000  21486.000000  21486.000000  21486.000000  \n",
       "mean       2.746740      6.078563     15.740343   2018.730103  \n",
       "std        1.483265      3.496635      8.808749      0.704910  \n",
       "min        0.000000      1.000000      1.000000   2018.000000  \n",
       "25%        1.750000      3.000000      8.000000   2018.000000  \n",
       "50%        2.400000      6.000000     16.000000   2019.000000  \n",
       "75%        3.400000      9.000000     23.000000   2019.000000  \n",
       "max       17.700000     12.000000     31.000000   2020.000000  "
      ]
     },
     "execution_count": 4,
     "metadata": {},
     "output_type": "execute_result"
    }
   ],
   "source": [
    "train_x.describe()"
   ]
  },
  {
   "cell_type": "code",
   "execution_count": 5,
   "metadata": {},
   "outputs": [],
   "source": [
    "train_x=train_x.drop(['월','일','년'], axis=1)\n",
    "test=test.drop(['월','일','년'], axis=1)"
   ]
  },
  {
   "cell_type": "code",
   "execution_count": 6,
   "metadata": {},
   "outputs": [],
   "source": [
    "sc=MinMaxScaler()\n",
    "train_xsc = sc.fit_transform(train_x)\n",
    "test_sc = sc.transform(test)"
   ]
  },
  {
   "cell_type": "markdown",
   "metadata": {},
   "source": [
    "param_grid={'C':[0.001,0.01,0.1,1,10,100,1000]}\n",
    "model = GridSearchCV(SVR(),param_grid, cv=5)\n",
    "model.fit(train_x, train_y.ravel())"
   ]
  },
  {
   "cell_type": "code",
   "execution_count": 7,
   "metadata": {},
   "outputs": [
    {
     "data": {
      "text/plain": [
       "0.7654781710268125"
      ]
     },
     "execution_count": 7,
     "metadata": {},
     "output_type": "execute_result"
    }
   ],
   "source": [
    "model = SVR(kernel = 'poly', C=1000)\n",
    "model.fit(train_xsc, train_y)\n",
    "model.score(train_xsc, train_y)"
   ]
  },
  {
   "cell_type": "code",
   "execution_count": 8,
   "metadata": {},
   "outputs": [],
   "source": [
    "pred_y=model.predict(test_sc)"
   ]
  },
  {
   "cell_type": "code",
   "execution_count": 9,
   "metadata": {},
   "outputs": [
    {
     "data": {
      "text/plain": [
       "array([  25.16891632,  -91.23514339,   66.32634786, ..., -129.16451488,\n",
       "         11.38147608,  894.8595396 ])"
      ]
     },
     "execution_count": 9,
     "metadata": {},
     "output_type": "execute_result"
    }
   ],
   "source": [
    "pred_y"
   ]
  },
  {
   "cell_type": "code",
   "execution_count": 10,
   "metadata": {},
   "outputs": [],
   "source": [
    "submit['predict'] = pred_y"
   ]
  },
  {
   "cell_type": "code",
   "execution_count": 11,
   "metadata": {},
   "outputs": [
    {
     "data": {
      "text/html": [
       "<div>\n",
       "<style scoped>\n",
       "    .dataframe tbody tr th:only-of-type {\n",
       "        vertical-align: middle;\n",
       "    }\n",
       "\n",
       "    .dataframe tbody tr th {\n",
       "        vertical-align: top;\n",
       "    }\n",
       "\n",
       "    .dataframe thead th {\n",
       "        text-align: right;\n",
       "    }\n",
       "</style>\n",
       "<table border=\"1\" class=\"dataframe\">\n",
       "  <thead>\n",
       "    <tr style=\"text-align: right;\">\n",
       "      <th></th>\n",
       "      <th>id</th>\n",
       "      <th>predict</th>\n",
       "    </tr>\n",
       "  </thead>\n",
       "  <tbody>\n",
       "    <tr>\n",
       "      <th>0</th>\n",
       "      <td>0</td>\n",
       "      <td>25.168916</td>\n",
       "    </tr>\n",
       "    <tr>\n",
       "      <th>1</th>\n",
       "      <td>1</td>\n",
       "      <td>-91.235143</td>\n",
       "    </tr>\n",
       "    <tr>\n",
       "      <th>2</th>\n",
       "      <td>2</td>\n",
       "      <td>66.326348</td>\n",
       "    </tr>\n",
       "    <tr>\n",
       "      <th>3</th>\n",
       "      <td>3</td>\n",
       "      <td>611.098206</td>\n",
       "    </tr>\n",
       "    <tr>\n",
       "      <th>4</th>\n",
       "      <td>4</td>\n",
       "      <td>1198.474028</td>\n",
       "    </tr>\n",
       "    <tr>\n",
       "      <th>...</th>\n",
       "      <td>...</td>\n",
       "      <td>...</td>\n",
       "    </tr>\n",
       "    <tr>\n",
       "      <th>10578</th>\n",
       "      <td>10578</td>\n",
       "      <td>183.854230</td>\n",
       "    </tr>\n",
       "    <tr>\n",
       "      <th>10579</th>\n",
       "      <td>10579</td>\n",
       "      <td>139.561002</td>\n",
       "    </tr>\n",
       "    <tr>\n",
       "      <th>10580</th>\n",
       "      <td>10580</td>\n",
       "      <td>-129.164515</td>\n",
       "    </tr>\n",
       "    <tr>\n",
       "      <th>10581</th>\n",
       "      <td>10581</td>\n",
       "      <td>11.381476</td>\n",
       "    </tr>\n",
       "    <tr>\n",
       "      <th>10582</th>\n",
       "      <td>10582</td>\n",
       "      <td>894.859540</td>\n",
       "    </tr>\n",
       "  </tbody>\n",
       "</table>\n",
       "<p>10583 rows × 2 columns</p>\n",
       "</div>"
      ],
      "text/plain": [
       "          id      predict\n",
       "0          0    25.168916\n",
       "1          1   -91.235143\n",
       "2          2    66.326348\n",
       "3          3   611.098206\n",
       "4          4  1198.474028\n",
       "...      ...          ...\n",
       "10578  10578   183.854230\n",
       "10579  10579   139.561002\n",
       "10580  10580  -129.164515\n",
       "10581  10581    11.381476\n",
       "10582  10582   894.859540\n",
       "\n",
       "[10583 rows x 2 columns]"
      ]
     },
     "execution_count": 11,
     "metadata": {},
     "output_type": "execute_result"
    }
   ],
   "source": [
    "submit"
   ]
  },
  {
   "cell_type": "code",
   "execution_count": 12,
   "metadata": {},
   "outputs": [],
   "source": [
    "submit.to_csv('submission.csv', index=False)"
   ]
  },
  {
   "cell_type": "code",
   "execution_count": null,
   "metadata": {},
   "outputs": [],
   "source": []
  }
 ],
 "metadata": {
  "kernelspec": {
   "display_name": "Python 3",
   "language": "python",
   "name": "python3"
  },
  "language_info": {
   "codemirror_mode": {
    "name": "ipython",
    "version": 3
   },
   "file_extension": ".py",
   "mimetype": "text/x-python",
   "name": "python",
   "nbconvert_exporter": "python",
   "pygments_lexer": "ipython3",
   "version": "3.8.3"
  }
 },
 "nbformat": 4,
 "nbformat_minor": 4
}
